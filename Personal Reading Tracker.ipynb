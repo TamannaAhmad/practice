{
 "cells": [
  {
   "cell_type": "markdown",
   "id": "b404516c-a21e-4d5c-948e-ee94db88c461",
   "metadata": {},
   "source": [
    "# Project: Personal Reading Tracker"
   ]
  },
  {
   "cell_type": "markdown",
   "id": "58091c68-16c0-4c31-9dd6-9ce4a9f317c2",
   "metadata": {},
   "source": [
    "## Objective:\n",
    "To create a personal reading tracker, through which a user can track books that they want to and have already read. This is done by applying Python programming concepts like data structures, file handling, functions, and object-oriented programming (OOP)."
   ]
  },
  {
   "cell_type": "markdown",
   "id": "d2020034-2ae8-4c34-b451-5511b13a380a",
   "metadata": {},
   "source": [
    "### Classes"
   ]
  },
  {
   "cell_type": "code",
   "execution_count": 11,
   "id": "35d8402c-0947-4c72-82ed-a1a6be4e0fe4",
   "metadata": {},
   "outputs": [],
   "source": [
    "class Book:\n",
    "    def __init__ (self, title, author, genre, read_status):\n",
    "        self.title = title\n",
    "        self.author = author\n",
    "        self.genre = genre\n",
    "        self.read_status = read_status\n",
    "    def show (self):\n",
    "        print(f\"Title: {self.title}\\t Author: {self.author}\\nGenre: {self.genre}\\tRead Status: {self.read_status}\")\n",
    "    "
   ]
  },
  {
   "cell_type": "code",
   "execution_count": 15,
   "id": "213b4d1d-92ac-4aba-911c-9d130507e31b",
   "metadata": {},
   "outputs": [],
   "source": [
    "class User:\n",
    "    def __init__ (self, name):\n",
    "        self.name = name\n",
    "        self.tbr = []\n",
    "        self.read = []\n",
    "    \n",
    "    def add_tbr (self, book):\n",
    "        if book in self.tbr:\n",
    "            print(f\"{book.title} is already in 'To Be Read' list\")\n",
    "        else:\n",
    "            self.tbr.append(book)\n",
    "            print(f\"{book.title} added to 'To Be Read' list\")\n",
    "\n",
    "    def view_tbr (self):\n",
    "        print(f\"{self.name}'s To Be Read List: \")\n",
    "        for book in self.tbr:\n",
    "            book.show()\n",
    "\n",
    "    def remove_tbr (self, title):\n",
    "        for book in self.tbr:\n",
    "            if book.title == title:\n",
    "                self.tbr.remove(book)\n",
    "                print(f\"Removed {title} from 'To Be Read' list\")\n",
    "                return\n",
    "        print(f\"{title} is not in 'To Be Read' list\")\n",
    "\n",
    "    def add_read (self, book):\n",
    "        if book in self.tbr:\n",
    "            self.tbr.remove(book)\n",
    "        if book in self.read:\n",
    "            print(f\"{book.title} is already in 'Read' list\")\n",
    "        else:\n",
    "            self.read.append(book)\n",
    "            print(f\"Added {book.title} to 'Read' list\")\n",
    "\n",
    "    def view_read (self):\n",
    "        print(f\"{self.name}'s Read List:\")\n",
    "        for book in self.read:\n",
    "            book.show()\n",
    "\n",
    "    def remove_read (self, title):\n",
    "        for book in self.read:\n",
    "            if book.title == title:\n",
    "                self.read.remove(book)\n",
    "                print(f\"Removed {title} from 'Read' list\")\n",
    "                return\n",
    "        print(f\"{title} is not in 'Read' list\")\n",
    "\n",
    "    def save_data(self, filename):\n",
    "        with open(filename, 'w') as file:\n",
    "            for book in self.read:\n",
    "                file.write(f\"{book.title},{book.author},{book.genre},{book.read_status}\")\n",
    "            for book in self.tbr:\n",
    "                file.write(f\"{book.title},{book.author},{book.genre},{book.read_status}\")\n",
    "\n",
    "    def load_data(self, filename):\n",
    "        with open(filename, 'r') as file:\n",
    "            for line in file:\n",
    "                line = line.strip()\n",
    "                title, author, genre, read_status = line.split(',')\n",
    "                book = Book(title, author, genre, read_status)\n",
    "                if read_status == \"tbr\":\n",
    "                    self.tbr.append(book)\n",
    "                elif read_status == \"read\":\n",
    "                    self.read.append(book)\n"
   ]
  },
  {
   "cell_type": "markdown",
   "id": "01c02103-6160-457e-a3f3-911209a46cd0",
   "metadata": {},
   "source": [
    "### Functions for User Interactions:"
   ]
  },
  {
   "cell_type": "code",
   "execution_count": 13,
   "id": "27760fe6-1872-4f69-bd64-d4be14a47eca",
   "metadata": {},
   "outputs": [],
   "source": [
    "def add_book(user):\n",
    "    title = input(\"Enter the book title: \")\n",
    "    author = input(\"Enter the author's name: \")\n",
    "    genre = input(\"Enter the genre of the book: \")\n",
    "    while (True):\n",
    "        read_status = input(\"Enter 'TBR' if you want to read the book, or 'Read' if you have already read it: \")\n",
    "        read_status = read_status.lower()\n",
    "        if read_status == 'tbr' or read_status == 'read':\n",
    "            break\n",
    "        else:\n",
    "            print(\"Invalid read status. Try again.\")\n",
    "    book = Book(title, author, genre, read_status)\n",
    "    if read_status == 'tbr':\n",
    "        user.add_tbr(book)\n",
    "    elif read_status == 'read':\n",
    "        user.add_read(book)\n",
    "\n",
    "def view_list(user):\n",
    "    while(True):\n",
    "        print(\"Pick a list: 1. To Be Read\\t2. Read\")\n",
    "        ch = int(input(\"Enter choice: \"))\n",
    "        if ch == 1:\n",
    "            user.view_tbr()\n",
    "        elif ch == 2:\n",
    "            user.view_read()\n",
    "        ch = int(input(\"Do you want to see other lists? 1. Yes or 2. No: \"))\n",
    "        if ch == 1:\n",
    "            continue\n",
    "        else:\n",
    "            break\n",
    "\n",
    "def remove_book(user):\n",
    "    title = input(\"Enter the title of the book to be removed: \")\n",
    "    while (True):\n",
    "        list = input(f\"Enter the list to remove {title} from: \")\n",
    "        if list == 'tbr':\n",
    "            user.remove_tbr(title)\n",
    "            break\n",
    "        elif list == 'read':\n",
    "            user.remove_read(title)\n",
    "            break\n",
    "        else:\n",
    "            print(\"Invalid list nme. Try again.\")\n",
    "\n",
    "def save_data(user):\n",
    "    filename = user.name + '.csv'\n",
    "    user.save_data(filename)\n",
    "    print(\"Data saved successfully!\")\n",
    "\n",
    "def load_data(user):\n",
    "    filename = user.name + '.csv'\n",
    "    user.load_data(filename)\n",
    "    print(\"Data loaded successfully!\")"
   ]
  },
  {
   "cell_type": "markdown",
   "id": "5421cacd-99c9-4859-9415-733da4dfdd3d",
   "metadata": {},
   "source": [
    "### Main Function"
   ]
  },
  {
   "cell_type": "code",
   "execution_count": 14,
   "id": "77b953e9-5f9e-420e-932f-7cbf67a79066",
   "metadata": {},
   "outputs": [
    {
     "name": "stdin",
     "output_type": "stream",
     "text": [
      "Enter your name:  t\n"
     ]
    },
    {
     "name": "stdout",
     "output_type": "stream",
     "text": [
      "\n",
      "1. Add Book\n",
      "2. View List\n",
      "3. Remove Book\n",
      "4. Save Data\n",
      "5. Load Data\n",
      "6. Exit\n"
     ]
    },
    {
     "name": "stdin",
     "output_type": "stream",
     "text": [
      "Enter your choice:  5\n"
     ]
    },
    {
     "name": "stdout",
     "output_type": "stream",
     "text": [
      "Data loaded successfully!\n",
      "\n",
      "1. Add Book\n",
      "2. View List\n",
      "3. Remove Book\n",
      "4. Save Data\n",
      "5. Load Data\n",
      "6. Exit\n"
     ]
    },
    {
     "name": "stdin",
     "output_type": "stream",
     "text": [
      "Enter your choice:  2\n"
     ]
    },
    {
     "name": "stdout",
     "output_type": "stream",
     "text": [
      "Pick a list: 1. To Be Read\t2. Read\n"
     ]
    },
    {
     "name": "stdin",
     "output_type": "stream",
     "text": [
      "Enter choice:  2\n"
     ]
    },
    {
     "name": "stdout",
     "output_type": "stream",
     "text": [
      "t's Read List:\n",
      "\n",
      "Title: catching fire\t Author: suzanne collins\n",
      "Genre: dystopian\tRead Status: read\n"
     ]
    },
    {
     "name": "stdin",
     "output_type": "stream",
     "text": [
      "Do you want to see other lists? 1. Yes or 2. No:  2\n"
     ]
    },
    {
     "name": "stdout",
     "output_type": "stream",
     "text": [
      "\n",
      "1. Add Book\n",
      "2. View List\n",
      "3. Remove Book\n",
      "4. Save Data\n",
      "5. Load Data\n",
      "6. Exit\n"
     ]
    },
    {
     "name": "stdin",
     "output_type": "stream",
     "text": [
      "Enter your choice:  6\n"
     ]
    }
   ],
   "source": [
    "def main():\n",
    "    name = input('Enter your name: ')\n",
    "    user = User(name)\n",
    "\n",
    "    while True:\n",
    "        print(\"\\n1. Add Book\")\n",
    "        print(\"2. View List\")\n",
    "        print(\"3. Remove Book\")\n",
    "        print(\"4. Save Data\")\n",
    "        print(\"5. Load Data\")\n",
    "        print(\"6. Exit\")\n",
    "        choice = input(\"Enter your choice: \")\n",
    "\n",
    "        if choice == '1':\n",
    "            add_book(user)\n",
    "        elif choice == '2':\n",
    "            view_list(user)\n",
    "        elif choice == '3':\n",
    "            remove_book(user)\n",
    "        elif choice == '4':\n",
    "            save_data(user)\n",
    "        elif choice == '5':\n",
    "            load_data(user)\n",
    "        elif choice == '6':\n",
    "            break\n",
    "        else:\n",
    "            print(\"Invalid choice. Please try again.\")\n",
    "\n",
    "if __name__ == \"__main__\":\n",
    "    main()"
   ]
  },
  {
   "cell_type": "code",
   "execution_count": null,
   "id": "d584ec72-dd68-4566-83c1-ad376e80df40",
   "metadata": {},
   "outputs": [],
   "source": []
  }
 ],
 "metadata": {
  "kernelspec": {
   "display_name": "Python 3 (ipykernel)",
   "language": "python",
   "name": "python3"
  },
  "language_info": {
   "codemirror_mode": {
    "name": "ipython",
    "version": 3
   },
   "file_extension": ".py",
   "mimetype": "text/x-python",
   "name": "python",
   "nbconvert_exporter": "python",
   "pygments_lexer": "ipython3",
   "version": "3.12.4"
  }
 },
 "nbformat": 4,
 "nbformat_minor": 5
}
